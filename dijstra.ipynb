{
  "nbformat": 4,
  "nbformat_minor": 0,
  "metadata": {
    "colab": {
      "provenance": [],
      "authorship_tag": "ABX9TyMToCSfK1jS2WyM5jL5XJex",
      "include_colab_link": true
    },
    "kernelspec": {
      "name": "python3",
      "display_name": "Python 3"
    },
    "language_info": {
      "name": "python"
    }
  },
  "cells": [
    {
      "cell_type": "markdown",
      "metadata": {
        "id": "view-in-github",
        "colab_type": "text"
      },
      "source": [
        "<a href=\"https://colab.research.google.com/github/dayoung-lab/dijkstra/blob/main/%08dijstra.ipynb\" target=\"_parent\"><img src=\"https://colab.research.google.com/assets/colab-badge.svg\" alt=\"Open In Colab\"/></a>"
      ]
    },
    {
      "cell_type": "markdown",
      "source": [
        "다익스트라"
      ],
      "metadata": {
        "id": "swDQwfLTfGj4"
      }
    },
    {
      "cell_type": "code",
      "source": [
        "from typing import List\n",
        "import collections\n",
        "import heapq"
      ],
      "metadata": {
        "id": "RfkHhyNxi2Wl"
      },
      "execution_count": null,
      "outputs": []
    },
    {
      "cell_type": "code",
      "execution_count": null,
      "metadata": {
        "id": "D2A-1X0mapZE"
      },
      "outputs": [],
      "source": [
        "def networkDelayTime(times: List[List[int]], N: int, K: int) -> int:\n",
        "    graph = collections.defaultdict(list)\n",
        "    #그래프 인접 리스트 구성\n",
        "    for u, v, w in times:\n",
        "        graph[u].append((v, w))\n",
        "\n",
        "    # 큐 변수: [(소요시간, 정점)]\n",
        "    Q = [(0, K)]\n",
        "    dist = collections.defaultdict(int)\n",
        "\n",
        "    #우선순위 큐 최솟값 기준으로 정점까지 최단 경로 삽입\n",
        "    while Q:\n",
        "        time, node = heapq.heappop(Q)\n",
        "        if node not in dist:\n",
        "            dist[node] = time\n",
        "            for v, w in graph[node]:\n",
        "                alt = time + w\n",
        "                heapq.heappush(Q, (alt, v))\n",
        "\n",
        "    #모든 노드의 최단 경로 존재 여부 판별\n",
        "    if len(dist) == N:\n",
        "        return max(dist.values())\n",
        "    return -1"
      ]
    },
    {
      "cell_type": "code",
      "source": [
        "times = [[3,1,5],[3,2,2],[2,1,2],[3,4,1],[4,5,1], [5,6,1],[6,7,1], [7,8,1], [8,1,1]]\n",
        "\n",
        "result = networkDelayTime(times, 8, 3)\n",
        "\n",
        "print(result)"
      ],
      "metadata": {
        "colab": {
          "base_uri": "https://localhost:8080/"
        },
        "id": "1b59yMTajDTj",
        "outputId": "cf3d525d-9825-4019-c129-751b92648e0c"
      },
      "execution_count": null,
      "outputs": [
        {
          "output_type": "stream",
          "name": "stdout",
          "text": [
            "5\n"
          ]
        }
      ]
    },
    {
      "cell_type": "markdown",
      "source": [
        "\bK 경유지 내 가장 저렴한 항공권"
      ],
      "metadata": {
        "id": "2XSF22OSfF-6"
      }
    },
    {
      "cell_type": "code",
      "source": [
        "n = 3, edges = [[0,1,100],[1,2,100],[0,2,500]]\n",
        "src = 0, dst = 2, K = 0\n"
      ],
      "metadata": {
        "colab": {
          "base_uri": "https://localhost:8080/",
          "height": 132
        },
        "id": "cktCsY2NfFiD",
        "outputId": "638f8514-1b85-4796-98c2-d0464849553b"
      },
      "execution_count": null,
      "outputs": [
        {
          "output_type": "error",
          "ename": "SyntaxError",
          "evalue": "ignored",
          "traceback": [
            "\u001b[0;36m  File \u001b[0;32m\"<ipython-input-14-c0785ee64648>\"\u001b[0;36m, line \u001b[0;32m1\u001b[0m\n\u001b[0;31m    n = 3, edges = [[0,1,100],[1,2,100],[0,2,500]]\u001b[0m\n\u001b[0m        ^\u001b[0m\n\u001b[0;31mSyntaxError\u001b[0m\u001b[0;31m:\u001b[0m cannot assign to literal\n"
          ]
        }
      ]
    },
    {
      "cell_type": "code",
      "source": [
        "n = 3\n",
        "edges = [[0,1,100],[1,2,100],[0,2,500]]\n",
        "src = 0\n",
        "dst = 2\n",
        "K = 0"
      ],
      "metadata": {
        "id": "n_ICOqy1gbXB"
      },
      "execution_count": null,
      "outputs": []
    },
    {
      "cell_type": "code",
      "source": [
        "#1\n",
        "def findCheapestFlight(self, n : int, flights: List[List[int]], src: int, dst :int, K: int) -> int:\n",
        "    graph = collections.defaultdict(list)\n",
        "    #그래프 인접 리스트 구성\n",
        "    for u, v, w in flights:\n",
        "        graph[u].append((v, w))\n",
        "\n",
        "#2\n",
        "    # 큐 변수: [(소요비용, 시작점, 경유지 개수)]\n",
        "    Q = [(0, src, k)]\n",
        "\n",
        "#3\n",
        "    #우선순위 큐 최솟값 기준으로 정점까지 최단 경로 삽입\n",
        "    while Q:\n",
        "        price, node, k = heapq.heappop(Q)\n",
        "\t\t\t\tif node == dst:\n",
        "\t\t\t\t\t\treturn price\n",
        "\t\t\t\tif k >= 0:         #a\n",
        "            for v, w in graph[node]:\n",
        "                alt = price + w\n",
        "                heapq.heappush(Q, (alt, v, k-1))\n",
        "    return -1"
      ],
      "metadata": {
        "colab": {
          "base_uri": "https://localhost:8080/",
          "height": 132
        },
        "id": "H6NUtQ0hfkpr",
        "outputId": "fb0e1bd6-5d38-48bf-81a7-ac10d4dbcdd9"
      },
      "execution_count": null,
      "outputs": [
        {
          "output_type": "error",
          "ename": "IndentationError",
          "evalue": "ignored",
          "traceback": [
            "\u001b[0;36m  File \u001b[0;32m\"<tokenize>\"\u001b[0;36m, line \u001b[0;32m19\u001b[0m\n\u001b[0;31m    for v, w in graph[node]:\u001b[0m\n\u001b[0m    ^\u001b[0m\n\u001b[0;31mIndentationError\u001b[0m\u001b[0;31m:\u001b[0m unindent does not match any outer indentation level\n"
          ]
        }
      ]
    },
    {
      "cell_type": "code",
      "source": [
        "def findCheapestFlight(n : int, flights: List[List[int]], src: int, dst :int, K: int) -> int:\n",
        "    graph = collections.defaultdict(list)\n",
        "    #그래프 인접 리스트 구성\n",
        "    for u, v, w in flights:\n",
        "        graph[u].append((v, w))\n",
        "\n",
        "    # 큐 변수: [(소요비용, 시작점, 경유지 개수)]\n",
        "    Q = [(0, src, K)]\n",
        "\n",
        "    #우선순위 큐 최솟값 기준으로 정점까지 최단 경로 삽입\n",
        "    while Q:\n",
        "        price, node, k = heapq.heappop(Q)\n",
        "        if node == dst:\n",
        "            return price\n",
        "        if k >= 0:\n",
        "            for v, w in graph[node]:\n",
        "                alt = price + w\n",
        "                heapq.heappush(Q, (alt, v, k-1))\n",
        "    return -1\n"
      ],
      "metadata": {
        "id": "CruXPIDfgGDO"
      },
      "execution_count": null,
      "outputs": []
    },
    {
      "cell_type": "code",
      "source": [
        "result1 = findCheapestFlight(n, edges, src, dst, K)\n",
        "\n",
        "print(result1)"
      ],
      "metadata": {
        "colab": {
          "base_uri": "https://localhost:8080/"
        },
        "id": "cOauX72YgdH1",
        "outputId": "2818fb5e-2092-46a0-f4c5-24fd127befab"
      },
      "execution_count": null,
      "outputs": [
        {
          "output_type": "stream",
          "name": "stdout",
          "text": [
            "500\n"
          ]
        }
      ]
    },
    {
      "cell_type": "markdown",
      "source": [
        "##백준1916"
      ],
      "metadata": {
        "id": "_67rqjrfuub3"
      }
    },
    {
      "cell_type": "code",
      "source": [
        "import heapq\n",
        "import sys\n",
        "\n",
        "n = int(input())  #도시의 개수\n",
        "m = int(input())  #버스의 개수\n",
        "\n",
        "#버스 정보를 담을 리스트\n",
        "#공백을 기준으로 \n",
        "graph = [[] for _ in range(n+1)]\n",
        "\n",
        "#m개의 줄에 걸쳐서 버스 정보 입력 받기\n",
        "#u: 출발 도시, v: 도착 도시, w: 비용(거리 또는 시간 등)\n",
        "for _ in range(m):\n",
        "    u, v, w = map(int, input().split())\n",
        "    graph[u].append((v, w))\n",
        "\n",
        "#출발지와 도착지 입력받기\n",
        "start, end = map(int, input().split())\n",
        "\n",
        "#INF 값으로 다른 초기화하여 다른 값보다 크도록 설정\n",
        "INF = int(1e9)\n",
        "distance = [INF] * (n+1)\n",
        "\n",
        "#출발지점부터 모든 도시까지의 최소 비용을 구하는 함수\n",
        "def dijkstra(start):\n",
        "    q = []\n",
        "    #heap 모듈을 이용해서 우선순위 큐 생성\n",
        "    #q 리스트에 (0, start) 형태로 출발지점의 비용과 출발지점의 번호를 삽입\n",
        "    heapq.heappush(q, (0, start))\n",
        "    #출발지점의 비용을 0으로 설정\n",
        "    distance[start] = 0\n",
        "\n",
        "    #while 문을 이용해서 q리스트에 있는 모든 원소에 대해서 처리\n",
        "    while q:\n",
        "        print(\"q리스트:\",q)\n",
        "        dist, now = heapq.heappop(q)    #heappop 함수를 이용해서 현재 처리할 도시(now)를 꺼냄\n",
        "        if distance[now] < dist:        #distance[now]는 현재까지의 비용 중 가장 작은 값\n",
        "            #dist가 distance[now]보다 큰 경우는 더 이상 처리할 필요가 없음\n",
        "            #따라서, continue를 이용해서 다음 반복문으로 넘어갑\n",
        "            continue\n",
        "        print(distance[now])\n",
        "        print(\"현재도시 : \", now, \"거리 : \", dist)\n",
        "        #for문을 이용해서 현재 도시에서 갈 수 있는 모든 도시를 확인3\n",
        "        for i in graph[now]:\n",
        "\n",
        "            #cost 변수에 dist(현재 도시까지의 비용)와 i[1](현재 도시에서 다음 도시까지의 비용)을 더한 값을 저장\n",
        "            cost = dist + i[1]\n",
        "            #cost가 distance[i[0]]보다 작은 경우에는, distance[i[0]]의 값을 cost로 업데이트함\n",
        "            #그리고, (cost, i[0]) 형태로 큐에 삽입\n",
        "            if cost < distance[i[0]]:\n",
        "\n",
        "                print(\"다음 도시 : \", i[0], \"다음 도시까지의 비용 : \", distance[i[0]], \"cost : \", cost, \"도시\",now ,\"에서 \",i[0],\"번째 도시까지의 비용\",i[1] )\n",
        "                distance[i[0]] = cost\n",
        "                heapq.heappush(q, (cost, i[0]))\n",
        "                print(\"q리스트:\",q)\n",
        "\n",
        "\n",
        "dijkstra(start)\n",
        "#distance[end] 값을 출력하면, 출발지점에서 도착지점까지의 최소 비용\n",
        "print(distance[3])\n"
      ],
      "metadata": {
        "colab": {
          "base_uri": "https://localhost:8080/"
        },
        "id": "bkAso-5QgrvB",
        "outputId": "9d1e9911-190f-4212-99a1-4255baeb00d5"
      },
      "execution_count": null,
      "outputs": [
        {
          "output_type": "stream",
          "name": "stdout",
          "text": [
            "5\n",
            "8\n",
            "1 2 2\n",
            "1 3 3\n",
            "1 4 1\n",
            "1 5 10\n",
            "2 4 2\n",
            "3 4 1\n",
            "3 5 1\n",
            "4 5 3\n",
            "1 5\n",
            "q리스트: [(0, 1)]\n",
            "0\n",
            "현재도시 :  1 거리 :  0\n",
            "다음 도시 :  2 다음 도시까지의 비용 :  1000000000 cost :  2 도시 1 에서  2 번째 도시까지의 비용 2\n",
            "q리스트: [(2, 2)]\n",
            "다음 도시 :  3 다음 도시까지의 비용 :  1000000000 cost :  3 도시 1 에서  3 번째 도시까지의 비용 3\n",
            "q리스트: [(2, 2), (3, 3)]\n",
            "다음 도시 :  4 다음 도시까지의 비용 :  1000000000 cost :  1 도시 1 에서  4 번째 도시까지의 비용 1\n",
            "q리스트: [(1, 4), (3, 3), (2, 2)]\n",
            "다음 도시 :  5 다음 도시까지의 비용 :  1000000000 cost :  10 도시 1 에서  5 번째 도시까지의 비용 10\n",
            "q리스트: [(1, 4), (3, 3), (2, 2), (10, 5)]\n",
            "q리스트: [(1, 4), (3, 3), (2, 2), (10, 5)]\n",
            "1\n",
            "현재도시 :  4 거리 :  1\n",
            "다음 도시 :  5 다음 도시까지의 비용 :  10 cost :  4 도시 4 에서  5 번째 도시까지의 비용 3\n",
            "q리스트: [(2, 2), (3, 3), (10, 5), (4, 5)]\n",
            "q리스트: [(2, 2), (3, 3), (10, 5), (4, 5)]\n",
            "2\n",
            "현재도시 :  2 거리 :  2\n",
            "q리스트: [(3, 3), (4, 5), (10, 5)]\n",
            "3\n",
            "현재도시 :  3 거리 :  3\n",
            "q리스트: [(4, 5), (10, 5)]\n",
            "4\n",
            "현재도시 :  5 거리 :  4\n",
            "q리스트: [(10, 5)]\n",
            "3\n"
          ]
        }
      ]
    },
    {
      "cell_type": "code",
      "source": [
        "print(graph)"
      ],
      "metadata": {
        "colab": {
          "base_uri": "https://localhost:8080/"
        },
        "id": "uBa-c6vowCWH",
        "outputId": "660b237a-cf7b-477a-865a-8e8be7daaea5"
      },
      "execution_count": null,
      "outputs": [
        {
          "output_type": "stream",
          "name": "stdout",
          "text": [
            "[[], [(2, 2), (3, 3), (4, 1), (5, 10)], [(4, 2)], [(4, 1), (5, 1)], [(5, 3)], []]\n"
          ]
        }
      ]
    }
  ]
}